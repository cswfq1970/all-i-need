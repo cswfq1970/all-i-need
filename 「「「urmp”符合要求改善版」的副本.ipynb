{
  "cells": [
    {
      "cell_type": "markdown",
      "metadata": {
        "id": "view-in-github",
        "colab_type": "text"
      },
      "source": [
        "<a href=\"https://colab.research.google.com/github/wfq1971/all-i-need/blob/main/%E3%80%8C%E3%80%8C%E3%80%8Curmp%E2%80%9D%E7%AC%A6%E5%90%88%E8%A6%81%E6%B1%82%E6%94%B9%E5%96%84%E7%89%88%E3%80%8D%E7%9A%84%E5%89%AF%E6%9C%AC.ipynb\" target=\"_parent\"><img src=\"https://colab.research.google.com/assets/colab-badge.svg\" alt=\"Open In Colab\"/></a>"
      ]
    },
    {
      "cell_type": "code",
      "execution_count": null,
      "metadata": {
        "colab": {
          "base_uri": "https://localhost:8080/"
        },
        "id": "zGqb50LczTuU",
        "outputId": "2a5e6173-ba2e-479f-b4c5-5f5c51f41186"
      },
      "outputs": [
        {
          "name": "stdout",
          "output_type": "stream",
          "text": [
            "pip 23.1.2 from /usr/local/lib/python3.10/dist-packages/pip (python 3.10)\n",
            "Collecting pip==23.2.1\n",
            "  Downloading pip-23.2.1-py3-none-any.whl (2.1 MB)\n",
            "\u001b[2K     \u001b[90m━━━━━━━━━━━━━━━━━━━━━━━━━━━━━━━━━━━━━━━━\u001b[0m \u001b[32m2.1/2.1 MB\u001b[0m \u001b[31m14.0 MB/s\u001b[0m eta \u001b[36m0:00:00\u001b[0m\n",
            "\u001b[?25hInstalling collected packages: pip\n",
            "  Attempting uninstall: pip\n",
            "    Found existing installation: pip 23.1.2\n",
            "    Uninstalling pip-23.1.2:\n",
            "      Successfully uninstalled pip-23.1.2\n",
            "Successfully installed pip-23.2.1\n",
            "pip 23.2.1 from /usr/local/lib/python3.10/dist-packages/pip (python 3.10)\n"
          ]
        }
      ],
      "source": [
        "!pip --version\n",
        "!pip install https://files.pythonhosted.org/packages/50/c2/e06851e8cc28dcad7c155f4753da8833ac06a5c704c109313b8d5a62968a/pip-23.2.1-py3-none-any.whl\n",
        "!pip --version"
      ]
    },
    {
      "cell_type": "code",
      "execution_count": null,
      "metadata": {
        "colab": {
          "base_uri": "https://localhost:8080/"
        },
        "id": "z5Y2Qh3MFQSl",
        "outputId": "417507bf-c791-4d4c-f8dd-df1ebd5e0a95"
      },
      "outputs": [
        {
          "name": "stdout",
          "output_type": "stream",
          "text": [
            "Python 3.10.8\n"
          ]
        }
      ],
      "source": [
        "!python --version"
      ]
    },
    {
      "cell_type": "code",
      "source": [
        "!"
      ],
      "metadata": {
        "id": "JT9Hmvzjp65O"
      },
      "execution_count": null,
      "outputs": []
    },
    {
      "cell_type": "code",
      "execution_count": null,
      "metadata": {
        "id": "kqzDcS920kYO"
      },
      "outputs": [],
      "source": [
        "!python --version\n",
        "!wget https://repo.anaconda.com/miniconda/Miniconda3-py39_4.12.0-Linux-x86_64.sh\n",
        "!chmod +x Miniconda3-py39_4.12.0-Linux-x86_64.sh\n",
        "!bash ./Miniconda3-py39_4.12.0-Linux-x86_64.sh -b -f -p /usr/local\n",
        "!conda create -y --name myenv python=3.10.6\n",
        "!conda init bash\n",
        "!source /usr/local/etc/profile.d/conda.sh\n",
        "!source activate myenv\n",
        "!python --version\n"
      ]
    },
    {
      "cell_type": "code",
      "execution_count": null,
      "metadata": {
        "colab": {
          "base_uri": "https://localhost:8080/"
        },
        "id": "SaAJk33ppFw1",
        "outputId": "884eac31-0500-4c49-8d44-52e61f7839e1"
      },
      "outputs": [
        {
          "output_type": "stream",
          "name": "stdout",
          "text": [
            "/root\n",
            "aria2 is already the newest version (1.36.0-1).\n",
            "0 upgraded, 0 newly installed, 0 to remove and 18 not upgraded.\n",
            "Cloning into '/root/kk'...\n",
            "remote: Enumerating objects: 26740, done.\u001b[K\n",
            "remote: Counting objects: 100% (26740/26740), done.\u001b[K\n",
            "remote: Compressing objects: 100% (7086/7086), done.\u001b[K\n",
            "remote: Total 26740 (delta 19455), reused 26740 (delta 19455), pack-reused 0\u001b[K\n",
            "Receiving objects: 100% (26740/26740), 25.82 MiB | 15.13 MiB/s, done.\n",
            "Resolving deltas: 100% (19455/19455), done.\n",
            "/root/kk/models\n",
            "fatal: No names found, cannot describe anything.\n",
            "Python 3.10.12 (main, Jun 11 2023, 05:26:28) [GCC 11.4.0]\n",
            "Version: 1.5.2\n",
            "Commit hash: c0cfaf443f483161f3aa2c9ca5ee098cac1c708b\n",
            "Installing gfpgan\n",
            "Installing clip\n"
          ]
        }
      ],
      "source": [
        "%cd /root\n",
        "!apt -y install -qq aria2\n",
        "!pip install -q torch==1.13.1+cu116 torchvision==0.14.1+cu116 torchaudio==0.13.1 torchtext==0.14.1 torchdata==0.5.1 --extra-index-url https://download.pytorch.org/whl/cu116 -U\n",
        "!pip install -q xformers==0.0.16 triton==2.0.0 -U\n",
        "\n",
        "#git clone -b v2.5 https://github.com/wfq1971/maybe-colab /root/cswpf\n",
        "!git clone -b main https://github.com/wfq1971/maybe-c-colab /root/kk\n",
        "#git clone https://github.com/wfq1971/nagatiwu /root/cswpf/embeddings/negative\n",
        "#git clone https://huggingface.co/colaibu/luola /root/cswpf/models/Lora/positive\n",
        "#aria2c --console-log-level=error -c -x 16 -s 16 -k 1M https://huggingface.co/colaibu/luola/resolve/main/4x-UltraSharp.pth -d /root/cswpf/models/ESRGAN -o 4x-UltraSharp.pth\n",
        "#wget https://raw.githubusercontent.com/cswfq1970/colab-scripts/main/run_n_times.py -O /root/cswpf/scripts/run_n_times.py\n",
        "#git clone https://github.com/wfq1971/colab-defowumu /root/cswpf/extensions/colab-defowumu\n",
        "#git clone https://github.com/cswfq1970/colab-images-browser /root/cswpf/extensions/colab-images-browser\n",
        "#git clone https://github.com/wfq1971/guanjianci-all-in-one /root/cswpf/extensions/guanjianci-all-in-one\n",
        "#git clone https://github.com/wfq1971/dynamic-thresholding /root/cswpf/extensions/dynamic-thresholding\n",
        "#git clone https://github.com/cswfq1970/colab-additional-networks /root/cswpf/extensions/colab-additional-networks\n",
        "#git clone https://github.com/cswfq1970/colab-kongzhiwangluo /root/cswpf/extensions/colab-kongzhiwangluo\n",
        "#git clone https://github.com/wfq1971/kaifangzishi-bianji /root/cswpf/extensions/kaifangzishi-bianji\n",
        "#git clone https://github.com/cswfq1970/colab-depth-lib /root/cswpf/extensions/colab-depth-lib\n",
        "#git clone https://github.com/wfq1971/zishix /root/cswpf/extensions/zishix\n",
        "#git clone https://github.com/cswfq1970/colab-3d-open-pose-editor /root/cswpf/extensions/colab-3d-open-pose-editor\n",
        "#git clone https://github.com/wfq1971/colab--u96a7-u9053 /root/cswpf/extensions/colab--u96a7-u9053\n",
        "#git clone https://github.com/wfq1971/duocengci-fangda-zuixinban /root/cswpf/extensions/duocengci-fangda-zuixinban\n",
        "#git clone https://github.com/cswfq1970/colab-catppuccin /root/cswpf/extensions/colab-catppuccin\n",
        "#git clone https://github.com/wfq1971/colab-ram-bg /root/cswpf/extensions/colab-ram-bg\n",
        "#git clone https://github.com/cswfq1970/colab-two-shot /root/cswpf/extensions/colab-two-shot\n",
        "#git clone https://github.com/cswfq1970/colab-aspect-ratio-helper /root/cswpf/extensions/colab-aspect-ratio-helper\n",
        "#git clone https://github.com/cswfq1970/asymmetric-tiling-colab /root/cswpf/extensions/asymmetric-tiling-colab\n",
        "#git clone https://github.com/wfq1971/wanshancitiao /root/cswpf/extensions/wanshancitiao\n",
        "#git clone https://github.com/wfq1971/zhongjifangda /root/cswpf/extensions/zhongjifangda\n",
        "#git clone https://github.com/cswfq1970/colab-chinese /root/cswpf/extensions/colab-chinese\n",
        "\n",
        "\n",
        "#aria2c --console-log-level=error -c -x 16 -s 16 -k 1M https://huggingface.co/colaibu/kongzhiwangluocolaibu-v1.1/resolve/main/control_v11e_sd15_ip2p_fp16.safetensors -d /root/cswpf/extensions/colab-kongzhiwangluo/models -o control_v11e_sd15_ip2p_fp16.safetensors\n",
        "#aria2c --console-log-level=error -c -x 16 -s 16 -k 1M https://huggingface.co/colaibu/kongzhiwangluocolaibu-v1.1/resolve/main/control_v11e_sd15_shuffle_fp16.safetensors -d /root/cswpf/extensions/colab-kongzhiwangluo/models -o control_v11e_sd15_shuffle_fp16.safetensors\n",
        "#aria2c --console-log-level=error -c -x 16 -s 16 -k 1M https://huggingface.co/colaibu/kongzhiwangluocolaibu-v1.1/resolve/main/control_v11p_sd15_canny_fp16.safetensors -d /root/cswpf/extensions/colab-kongzhiwangluo/models -o control_v11p_sd15_canny_fp16.safetensors\n",
        "#aria2c --console-log-level=error -c -x 16 -s 16 -k 1M https://huggingface.co/colaibu/kongzhiwangluocolaibu-v1.1/resolve/main/control_v11f1p_sd15_depth_fp16.safetensors -d /root/cswpf/extensions/colab-kongzhiwangluo/models -o control_v11f1p_sd15_depth_fp16.safetensors\n",
        "#aria2c --console-log-level=error -c -x 16 -s 16 -k 1M https://huggingface.co/colaibu/kongzhiwangluocolaibu-v1.1/resolve/main/control_v11p_sd15_inpaint_fp16.safetensors -d /root/cswpf/extensions/colab-kongzhiwangluo/models -o control_v11p_sd15_inpaint_fp16.safetensors\n",
        "#aria2c --console-log-level=error -c -x 16 -s 16 -k 1M https://huggingface.co/colaibu/kongzhiwangluocolaibu-v1.1/resolve/main/control_v11p_sd15_lineart_fp16.safetensors -d /root/cswpf/extensions/colab-kongzhiwangluo/models -o control_v11p_sd15_lineart_fp16.safetensors\n",
        "#aria2c --console-log-level=error -c -x 16 -s 16 -k 1M https://huggingface.co/colaibu/kongzhiwangluocolaibu-v1.1/resolve/main/control_v11p_sd15_mlsd_fp16.safetensors -d /root/cswpf/extensions/colab-kongzhiwangluo/models -o control_v11p_sd15_mlsd_fp16.safetensors\n",
        "#aria2c --console-log-level=error -c -x 16 -s 16 -k 1M https://huggingface.co/colaibu/kongzhiwangluocolaibu-v1.1/resolve/main/control_v11p_sd15_normalbae_fp16.safetensors -d /root/cswpf/extensions/colab-kongzhiwangluo/models -o control_v11p_sd15_normalbae_fp16.safetensors\n",
        "#aria2c --console-log-level=error -c -x 16 -s 16 -k 1M https://huggingface.co/colaibu/kongzhiwangluocolaibu-v1.1/resolve/main/control_v11p_sd15_openpose_fp16.safetensors -d /root/cswpf/extensions/colab-kongzhiwangluo/models -o control_v11p_sd15_openpose_fp16.safetensors\n",
        "#aria2c --console-log-level=error -c -x 16 -s 16 -k 1M https://huggingface.co/colaibu/kongzhiwangluocolaibu-v1.1/resolve/main/control_v11p_sd15_scribble_fp16.safetensors -d /root/cswpf/extensions/colab-kongzhiwangluo/models -o control_v11p_sd15_scribble_fp16.safetensors\n",
        "#aria2c --console-log-level=error -c -x 16 -s 16 -k 1M https://huggingface.co/colaibu/kongzhiwangluocolaibu-v1.1/resolve/main/control_v11p_sd15_seg_fp16.safetensors -d /root/cswpf/extensions/colab-kongzhiwangluo/models -o control_v11p_sd15_seg_fp16.safetensors\n",
        "#aria2c --console-log-level=error -c -x 16 -s 16 -k 1M https://huggingface.co/colaibu/kongzhiwangluocolaibu-v1.1/resolve/main/control_v11p_sd15_softedge_fp16.safetensors -d /root/cswpf/extensions/colab-kongzhiwangluo/models -o control_v11p_sd15_softedge_fp16.safetensors\n",
        "#aria2c --console-log-level=error -c -x 16 -s 16 -k 1M https://huggingface.co/colaibu/kongzhiwangluocolaibu-v1.1/resolve/9ab7923c49e4ded084a9330890470cf589f0f5ea/control_v11p_sd15s2_lineart_anime_fp16.safetensors -d /root/cswpf/extensions/colab-kongzhiwangluo/models -o control_v11p_sd15s2_lineart_anime_fp16.safetensors\n",
        "#aria2c --console-log-level=error -c -x 16 -s 16 -k 1M https://huggingface.co/colaibu/kongzhiwangluocolaibu-v1.1/resolve/main/control_v11f1e_sd15_tile_fp16.safetensors -d /root/cswpf/extensions/colab-kongzhiwangluo/models -o control_v11f1e_sd15_tile_fp16.safetensors\n",
        "#aria2c --console-log-level=error -c -x 16 -s 16 -k 1M https://huggingface.co/colaibu/kongzhiwangluocolaibu-v1.1/raw/main/control_v11e_sd15_ip2p_fp16.yaml -d /root/cswpf/extensions/colab-kongzhiwangluo/models -o control_v11e_sd15_ip2p_fp16.yaml\n",
        "#aria2c --console-log-level=error -c -x 16 -s 16 -k 1M https://huggingface.co/colaibu/kongzhiwangluocolaibu-v1.1/raw/main/control_v11e_sd15_shuffle_fp16.yaml -d /root/cswpf/extensions/colab-kongzhiwangluo/models -o control_v11e_sd15_shuffle_fp16.yaml\n",
        "#aria2c --console-log-level=error -c -x 16 -s 16 -k 1M https://huggingface.co/colaibu/kongzhiwangluocolaibu-v1.1/raw/main/control_v11p_sd15_canny_fp16.yaml -d /root/cswpf/extensions/colab-kongzhiwangluo/models -o control_v11p_sd15_canny_fp16.yaml\n",
        "#aria2c --console-log-level=error -c -x 16 -s 16 -k 1M https://huggingface.co/colaibu/kongzhiwangluocolaibu-v1.1/raw/main/control_v11f1p_sd15_depth_fp16.yaml -d /root/cswpf/extensions/colab-kongzhiwangluo/models -o control_v11f1p_sd15_depth_fp16.yaml\n",
        "#aria2c --console-log-level=error -c -x 16 -s 16 -k 1M https://huggingface.co/colaibu/kongzhiwangluocolaibu-v1.1/raw/main/control_v11p_sd15_inpaint_fp16.yaml -d /root/cswpf/extensions/colab-kongzhiwangluo/models -o control_v11p_sd15_inpaint_fp16.yaml\n",
        "#aria2c --console-log-level=error -c -x 16 -s 16 -k 1M https://huggingface.co/colaibu/kongzhiwangluocolaibu-v1.1/raw/main/control_v11p_sd15_lineart_fp16.yaml -d /root/cswpf/extensions/colab-kongzhiwangluo/models -o control_v11p_sd15_lineart_fp16.yaml\n",
        "#aria2c --console-log-level=error -c -x 16 -s 16 -k 1M https://huggingface.co/colaibu/kongzhiwangluocolaibu-v1.1/raw/main/control_v11p_sd15_mlsd_fp16.yaml -d /root/cswpf/extensions/colab-kongzhiwangluo/models -o control_v11p_sd15_mlsd_fp16.yaml\n",
        "#aria2c --console-log-level=error -c -x 16 -s 16 -k 1M https://huggingface.co/colaibu/kongzhiwangluocolaibu-v1.1/raw/main/control_v11p_sd15_normalbae_fp16.yaml -d /root/cswpf/extensions/colab-kongzhiwangluo/models -o control_v11p_sd15_normalbae_fp16.yaml\n",
        "#aria2c --console-log-level=error -c -x 16 -s 16 -k 1M https://huggingface.co/colaibu/kongzhiwangluocolaibu-v1.1/raw/main/control_v11p_sd15_openpose_fp16.yaml -d /root/cswpf/extensions/colab-kongzhiwangluo/models -o control_v11p_sd15_openpose_fp16.yaml\n",
        "#aria2c --console-log-level=error -c -x 16 -s 16 -k 1M https://huggingface.co/colaibu/kongzhiwangluocolaibu-v1.1/raw/main/control_v11p_sd15_scribble_fp16.yaml -d /root/cswpf/extensions/colab-kongzhiwangluo/models -o control_v11p_sd15_scribble_fp16.yaml\n",
        "#aria2c --console-log-level=error -c -x 16 -s 16 -k 1M https://huggingface.co/colaibu/kongzhiwangluocolaibu-v1.1/raw/main/control_v11p_sd15_seg_fp16.yaml -d /root/cswpf/extensions/colab-kongzhiwangluo/models -o control_v11p_sd15_seg_fp16.yaml\n",
        "#aria2c --console-log-level=error -c -x 16 -s 16 -k 1M https://huggingface.co/colaibu/kongzhiwangluocolaibu-v1.1/raw/main/control_v11p_sd15_softedge_fp16.yaml -d /root/cswpf/extensions/colab-kongzhiwangluo/models -o control_v11p_sd15_softedge_fp16.yaml\n",
        "#aria2c --console-log-level=error -c -x 16 -s 16 -k 1M https://huggingface.co/colaibu/kongzhiwangluocolaibu-v1.1/raw/main/control_v11p_sd15s2_lineart_anime_fp16.yaml -d /root/cswpf/extensions/colab-kongzhiwangluo/models -o control_v11p_sd15s2_lineart_anime_fp16.yaml\n",
        "#aria2c --console-log-level=error -c -x 16 -s 16 -k 1M https://huggingface.co/colaibu/kongzhiwangluocolaibu-v1.1/raw/main/control_v11f1e_sd15_tile_fp16.yaml -d /root/cswpf/extensions/colab-kongzhiwangluo/models -o control_v11f1e_sd15_tile_fp16.yaml\n",
        "#aria2c --console-log-level=error -c -x 16 -s 16 -k 1M https://huggingface.co/colaibu/kongzhiwangluocolaibu-v1.1/resolve/main/t2iadapter_style_sd14v1.pth -d /root/cswpf/extensions/colab-kongzhiwangluo/models -o t2iadapter_style_sd14v1.pth\n",
        "#aria2c --console-log-level=error -c -x 16 -s 16 -k 1M https://huggingface.co/colaibu/kongzhiwangluocolaibu-v1.1/resolve/main/t2iadapter_sketch_sd14v1.pth -d /root/cswpf/extensions/colab-kongzhiwangluo/models -o t2iadapter_sketch_sd14v1.pth\n",
        "#aria2c --console-log-level=error -c -x 16 -s 16 -k 1M https://huggingface.co/colaibu/kongzhiwangluocolaibu-v1.1/resolve/main/t2iadapter_seg_sd14v1.pth -d /root/cswpf/extensions/colab-kongzhiwangluo/models -o t2iadapter_seg_sd14v1.pth\n",
        "#aria2c --console-log-level=error -c -x 16 -s 16 -k 1M https://huggingface.co/colaibu/kongzhiwangluocolaibu-v1.1/resolve/main/t2iadapter_openpose_sd14v1.pth -d /root/cswpf/extensions/colab-kongzhiwangluo/models -o t2iadapter_openpose_sd14v1.pth\n",
        "#aria2c --console-log-level=error -c -x 16 -s 16 -k 1M https://huggingface.co/colaibu/kongzhiwangluocolaibu-v1.1/resolve/main/t2iadapter_keypose_sd14v1.pth -d /root/cswpf/extensions/colab-kongzhiwangluo/models -o t2iadapter_keypose_sd14v1.pth\n",
        "#aria2c --console-log-level=error -c -x 16 -s 16 -k 1M https://huggingface.co/colaibu/kongzhiwangluocolaibu-v1.1/resolve/main/t2iadapter_depth_sd14v1.pth -d /root/cswpf/extensions/colab-kongzhiwangluo/models -o t2iadapter_depth_sd14v1.pth\n",
        "#aria2c --console-log-level=error -c -x 16 -s 16 -k 1M https://huggingface.co/colaibu/kongzhiwangluocolaibu-v1.1/resolve/main/t2iadapter_color_sd14v1.pth -d /root/cswpf/extensions/colab-kongzhiwangluo/models -o t2iadapter_color_sd14v1.pth\n",
        "#aria2c --console-log-level=error -c -x 16 -s 16 -k 1M https://huggingface.co/colaibu/kongzhiwangluocolaibu-v1.1/resolve/main/t2iadapter_canny_sd14v1.pth -d /root/cswpf/extensions/colab-kongzhiwangluo/models -o t2iadapter_canny_sd14v1.pth\n",
        "#aria2c --console-log-level=error -c -x 16 -s 16 -k 1M https://huggingface.co/colaibu/kongzhiwangluocolaibu-v1.1/resolve/main/t2iadapter_canny_sd15v2.pth -d /root/cswpf/extensions/colab-kongzhiwangluo/models -o t2iadapter_canny_sd15v2.pth\n",
        "#aria2c --console-log-level=error -c -x 16 -s 16 -k 1M https://huggingface.co/colaibu/kongzhiwangluocolaibu-v1.1/resolve/main/t2iadapter_depth_sd15v2.pth -d /root/cswpf/extensions/colab-kongzhiwangluo/models -o t2iadapter_depth_sd15v2.pth\n",
        "#aria2c --console-log-level=error -c -x 16 -s 16 -k 1M https://huggingface.co/colaibu/kongzhiwangluocolaibu-v1.1/resolve/main/t2iadapter_sketch_sd15v2.pth -d /root/cswpf/extensions/colab-kongzhiwangluo/models -o t2iadapter_sketch_sd15v2.pth\n",
        "#aria2c --console-log-level=error -c -x 16 -s 16 -k 1M https://huggingface.co/colaibu/kongzhiwangluocolaibu-v1.1/resolve/main/t2iadapter_zoedepth_sd15v1.pth -d /root/cswpf/extensions/colab-kongzhiwangluo/models -o t2iadapter_zoedepth_sd15v1.pth\n",
        "\n",
        "#aria2c --console-log-level=error -c -x 16 -s 16 -k 1M https://huggingface.co/ckpt/sd14/resolve/main/sd-v1-4.ckpt -d /root/kk/models/Stable-diffusion -o sd-v1-4.ckpt\n",
        "#aria2c --console-log-level=error -c -x 16 -s 16 -k 1M https://huggingface.co/colaibu/moxing/resolve/main/PM.safetensors -d /root/cswpf/models/ -o PM.safetensors\n",
        "#aria2c --console-log-level=error -c -x 16 -s 16 -k 1M https://huggingface.co/colaibu/kongzhiwangluocolaibu-v1.1/resolve/main/visualagentester.ckpt -d /root/cswpf/models/ -o crosskemonoFurryModel_crosskemono25.vae.pt\n",
        "#注释要自己移动免跟踪\n",
        "%cd /root/kk/models/\n",
        "#gdown --fuzzy -O model.safetensors \"https://civitai.com/api/download/models/15670\"\n",
        "#aria2c --console-log-level=error -c -x 16 -s 16 -k 1M https://github.com/cswfq1970/all-i-need/releases/download/model_base_caption_capfilt_large/model_base_caption_capfilt_large.pth -d /root/cswpf/models/BLIP -o model_base_caption_capfilt_large.pth\n",
        "#aria2c --console-log-level=error -c -x 16 -s 16 -k 1M https://huggingface.co/colaibu/kongzhiwangluocolaibu-v1.1/resolve/main/visualagentester.ckpt -d /root/cswpf/models/BLIP -o visualagentester.ckpt\n",
        "#sed -i -e 's/\\[\"sd_model_checkpoint\"\\]/\\[\"sd_model_checkpoint\",\"sd_vae\",\"CLIP_stop_at_last_layers\"\\]/g' /root/cswpf/modules/shared_options.py\n",
        "#bash /content/colab.sh\n",
        "\n",
        "\n",
        "!python /root/kk/launch.py --theme dark --share --xformers --enable-insecure-extension-access --gradio-queue\n"
      ]
    },
    {
      "cell_type": "markdown",
      "metadata": {
        "id": "zpyBkC9vNauh"
      },
      "source": [
        "URMP Inpaint:https://huggingface.co/colaibu/moxing/resolve/main/PM-chonghui.safetensors\n",
        "URMP:https://huggingface.co/colaibu/moxing/resolve/main/PM.safetensors"
      ]
    },
    {
      "cell_type": "code",
      "execution_count": null,
      "metadata": {
        "colab": {
          "base_uri": "https://localhost:8080/"
        },
        "id": "aYeuRyOuLvoE",
        "outputId": "dbc9bb1e-eceb-4d66-e0ee-e372c865b67a"
      },
      "outputs": [
        {
          "name": "stdout",
          "output_type": "stream",
          "text": [
            "fatal: not a git repository (or any of the parent directories): .git\n",
            "fatal: not a git repository (or any of the parent directories): .git\n",
            "Python 3.10.8 (main, Nov 24 2022, 14:13:03) [GCC 11.2.0]\n",
            "Version: 1.6.0\n",
            "Commit hash: <none>\n",
            "Installing torch and torchvision\n",
            "Looking in indexes: https://pypi.org/simple, https://download.pytorch.org/whl/cu118\n",
            "Collecting torch==2.0.1\n",
            "  Downloading https://download.pytorch.org/whl/cu118/torch-2.0.1%2Bcu118-cp310-cp310-linux_x86_64.whl (2267.3 MB)\n",
            "\u001b[2K     \u001b[90m━━━━━━━━━━━━━━━━━━━━━━━━━━━━━━━━━━━━━━━━\u001b[0m \u001b[32m2.3/2.3 GB\u001b[0m \u001b[31m741.2 kB/s\u001b[0m eta \u001b[36m0:00:00\u001b[0m\n",
            "\u001b[?25hCollecting torchvision==0.15.2\n",
            "  Downloading https://download.pytorch.org/whl/cu118/torchvision-0.15.2%2Bcu118-cp310-cp310-linux_x86_64.whl (6.1 MB)\n",
            "\u001b[2K     \u001b[90m━━━━━━━━━━━━━━━━━━━━━━━━━━━━━━━━━━━━━━━━\u001b[0m \u001b[32m6.1/6.1 MB\u001b[0m \u001b[31m100.0 MB/s\u001b[0m eta \u001b[36m0:00:00\u001b[0m\n",
            "\u001b[?25hCollecting typing-extensions\n",
            "  Using cached typing_extensions-4.8.0-py3-none-any.whl (31 kB)\n",
            "Collecting triton==2.0.0\n",
            "  Downloading https://download.pytorch.org/whl/triton-2.0.0-1-cp310-cp310-manylinux2014_x86_64.manylinux_2_17_x86_64.whl (63.3 MB)\n",
            "\u001b[2K     \u001b[90m━━━━━━━━━━━━━━━━━━━━━━━━━━━━━━━━━━━━━━━━\u001b[0m \u001b[32m63.3/63.3 MB\u001b[0m \u001b[31m10.7 MB/s\u001b[0m eta \u001b[36m0:00:00\u001b[0m\n",
            "\u001b[?25hCollecting jinja2\n",
            "  Using cached https://download.pytorch.org/whl/Jinja2-3.1.2-py3-none-any.whl (133 kB)\n",
            "Collecting filelock\n",
            "  Using cached filelock-3.12.4-py3-none-any.whl (11 kB)\n",
            "Collecting sympy\n",
            "  Using cached https://download.pytorch.org/whl/sympy-1.12-py3-none-any.whl (5.7 MB)\n",
            "Collecting networkx\n",
            "  Using cached networkx-3.1-py3-none-any.whl (2.1 MB)\n",
            "Requirement already satisfied: requests in /usr/local/lib/python3.10/site-packages (from torchvision==0.15.2) (2.28.1)\n",
            "Collecting pillow!=8.3.*,>=5.3.0\n",
            "  Downloading Pillow-10.0.1-cp310-cp310-manylinux_2_28_x86_64.whl (3.6 MB)\n",
            "\u001b[2K     \u001b[90m━━━━━━━━━━━━━━━━━━━━━━━━━━━━━━━━━━━━━━━━\u001b[0m \u001b[32m3.6/3.6 MB\u001b[0m \u001b[31m37.6 MB/s\u001b[0m eta \u001b[36m0:00:00\u001b[0m\n",
            "\u001b[?25hCollecting numpy\n",
            "  Downloading numpy-1.26.0-cp310-cp310-manylinux_2_17_x86_64.manylinux2014_x86_64.whl (18.2 MB)\n",
            "\u001b[2K     \u001b[90m━━━━━━━━━━━━━━━━━━━━━━━━━━━━━━━━━━━━━━━━\u001b[0m \u001b[32m18.2/18.2 MB\u001b[0m \u001b[31m62.2 MB/s\u001b[0m eta \u001b[36m0:00:00\u001b[0m\n",
            "\u001b[?25hCollecting cmake\n",
            "  Using cached cmake-3.27.6-py2.py3-none-manylinux2014_x86_64.manylinux_2_17_x86_64.whl (26.0 MB)\n",
            "Collecting lit\n",
            "  Using cached lit-17.0.1.tar.gz (154 kB)\n",
            "  Installing build dependencies ... \u001b[?25l\u001b[?25hdone\n",
            "  Getting requirements to build wheel ... \u001b[?25l\u001b[?25hdone\n",
            "  Installing backend dependencies ... \u001b[?25l\u001b[?25hdone\n",
            "  Preparing metadata (pyproject.toml) ... \u001b[?25l\u001b[?25hdone\n",
            "Collecting MarkupSafe>=2.0\n",
            "  Downloading MarkupSafe-2.1.3-cp310-cp310-manylinux_2_17_x86_64.manylinux2014_x86_64.whl (25 kB)\n",
            "Requirement already satisfied: idna<4,>=2.5 in /usr/local/lib/python3.10/site-packages (from requests->torchvision==0.15.2) (3.4)\n",
            "Collecting charset-normalizer<3,>=2\n",
            "  Downloading https://download.pytorch.org/whl/charset_normalizer-2.1.1-py3-none-any.whl (39 kB)\n",
            "Requirement already satisfied: certifi>=2017.4.17 in /usr/local/lib/python3.10/site-packages (from requests->torchvision==0.15.2) (2022.12.7)\n",
            "Requirement already satisfied: urllib3<1.27,>=1.21.1 in /usr/local/lib/python3.10/site-packages (from requests->torchvision==0.15.2) (1.26.13)\n",
            "Collecting mpmath>=0.19\n",
            "  Using cached https://download.pytorch.org/whl/mpmath-1.3.0-py3-none-any.whl (536 kB)\n",
            "Building wheels for collected packages: lit\n",
            "  Building wheel for lit (pyproject.toml) ... \u001b[?25l\u001b[?25hdone\n",
            "  Created wheel for lit: filename=lit-17.0.1-py3-none-any.whl size=93254 sha256=126298ab48972282241848b6630d569cb1d78a1cbe2469b688fce4bc8c1ce9bc\n",
            "  Stored in directory: /root/.cache/pip/wheels/6c/2e/a0/43cf08d34bff019910a37a904aea9d775a5dab15e722e429d5\n",
            "Successfully built lit\n",
            "Installing collected packages: mpmath, lit, cmake, typing-extensions, sympy, pillow, numpy, networkx, MarkupSafe, filelock, charset-normalizer, jinja2, triton, torch, torchvision\n",
            "Successfully installed MarkupSafe-2.1.3 charset-normalizer-2.1.1 cmake-3.27.6 filelock-3.12.4 jinja2-3.1.2 lit-17.0.1 mpmath-1.3.0 networkx-3.1 numpy-1.26.0 pillow-10.0.1 sympy-1.12 torch-2.0.1+cu118 torchvision-0.15.2+cu118 triton-2.0.0 typing-extensions-4.8.0\n",
            "\u001b[33mWARNING: Running pip as the 'root' user can result in broken permissions and conflicting behaviour with the system package manager. It is recommended to use a virtual environment instead: https://pip.pypa.io/warnings/venv\u001b[0m\u001b[33m\n",
            "\u001b[0mInstalling clip\n",
            "Installing open_clip\n",
            "Installing requirements for CodeFormer\n",
            "Installing requirements\n",
            "Launching Web UI with arguments: --api --share\n",
            "no module 'xformers'. Processing without...\n",
            "no module 'xformers'. Processing without...\n",
            "No module 'xformers'. Proceeding without it.\n",
            "Moving PM.safetensors from /root/cswpf/models to /root/cswpf/models/Stable-diffusion.\n",
            "Loading weights [f93e6a50ac] from /root/cswpf/models/Stable-diffusion/PM.safetensors\n",
            "Running on local URL:  http://127.0.0.1:7860\n",
            "Creating model from config: /root/cswpf/configs/v1-inference.yaml\n",
            "Running on public URL: https://53285da62524dafa70.gradio.live\n",
            "\n",
            "This share link expires in 72 hours. For free permanent hosting and GPU upgrades, run `gradio deploy` from Terminal to deploy to Spaces (https://huggingface.co/spaces)\n",
            "Startup time: 257.6s (prepare environment: 244.2s, import torch: 4.5s, import gradio: 1.2s, setup paths: 1.2s, initialize shared: 0.4s, other imports: 1.2s, setup codeformer: 0.1s, load scripts: 0.9s, create ui: 2.0s, gradio launch: 1.9s, add APIs: 0.1s).\n",
            "Applying attention optimization: Doggettx... done.\n",
            "Model loaded in 28.5s (load weights from disk: 2.9s, create model: 0.5s, apply weights to model: 24.1s, apply half(): 0.1s, load textual inversion embeddings: 0.1s, calculate empty prompt: 0.6s).\n",
            "Traceback (most recent call last):\n",
            "  File \"/usr/local/lib/python3.10/site-packages/gradio/routes.py\", line 487, in run_predict\n",
            "    with utils.MatplotlibBackendMananger():\n",
            "  File \"/usr/local/lib/python3.10/site-packages/gradio/utils.py\", line 887, in __exit__\n",
            "    matplotlib.use(self._original_backend)\n",
            "  File \"/usr/local/lib/python3.10/site-packages/matplotlib/__init__.py\", line 1249, in use\n",
            "    plt.switch_backend(name)\n",
            "  File \"/usr/local/lib/python3.10/site-packages/matplotlib/pyplot.py\", line 342, in switch_backend\n",
            "    module = importlib.import_module(cbook._backend_module_name(newbackend))\n",
            "  File \"/usr/local/lib/python3.10/importlib/__init__.py\", line 126, in import_module\n",
            "    return _bootstrap._gcd_import(name[level:], package, level)\n",
            "  File \"<frozen importlib._bootstrap>\", line 1050, in _gcd_import\n",
            "  File \"<frozen importlib._bootstrap>\", line 1027, in _find_and_load\n",
            "  File \"<frozen importlib._bootstrap>\", line 992, in _find_and_load_unlocked\n",
            "  File \"<frozen importlib._bootstrap>\", line 241, in _call_with_frames_removed\n",
            "  File \"<frozen importlib._bootstrap>\", line 1050, in _gcd_import\n",
            "  File \"<frozen importlib._bootstrap>\", line 1027, in _find_and_load\n",
            "  File \"<frozen importlib._bootstrap>\", line 992, in _find_and_load_unlocked\n",
            "  File \"<frozen importlib._bootstrap>\", line 241, in _call_with_frames_removed\n",
            "  File \"<frozen importlib._bootstrap>\", line 1050, in _gcd_import\n",
            "  File \"<frozen importlib._bootstrap>\", line 1027, in _find_and_load\n",
            "  File \"<frozen importlib._bootstrap>\", line 1004, in _find_and_load_unlocked\n",
            "ModuleNotFoundError: No module named 'ipykernel'\n",
            "Interrupted with signal 2 in <frame at 0xc422f70, file '/usr/local/lib/python3.10/threading.py', line 324, code wait>\n",
            "\n",
            "# Thread: AnyIO worker thread(139332045968960)\n",
            "File: \"/usr/local/lib/python3.10/threading.py\", line 973, in _bootstrap\n",
            "  self._bootstrap_inner()\n",
            "File: \"/usr/local/lib/python3.10/threading.py\", line 1016, in _bootstrap_inner\n",
            "  self.run()\n",
            "File: \"/usr/local/lib/python3.10/site-packages/anyio/_backends/_asyncio.py\", line 797, in run\n",
            "  item = self.queue.get()\n",
            "File: \"/usr/local/lib/python3.10/queue.py\", line 171, in get\n",
            "  self.not_empty.wait()\n",
            "File: \"/usr/local/lib/python3.10/threading.py\", line 320, in wait\n",
            "  waiter.acquire()\n",
            "\n",
            "# Thread: Thread-4 (run)(139332059604544)\n",
            "File: \"/usr/local/lib/python3.10/threading.py\", line 973, in _bootstrap\n",
            "  self._bootstrap_inner()\n",
            "File: \"/usr/local/lib/python3.10/threading.py\", line 1016, in _bootstrap_inner\n",
            "  self.run()\n",
            "File: \"/usr/local/lib/python3.10/threading.py\", line 953, in run\n",
            "  self._target(*self._args, **self._kwargs)\n",
            "File: \"/usr/local/lib/python3.10/site-packages/uvicorn/server.py\", line 61, in run\n",
            "  return asyncio.run(self.serve(sockets=sockets))\n",
            "File: \"/usr/local/lib/python3.10/asyncio/runners.py\", line 44, in run\n",
            "  return loop.run_until_complete(main)\n",
            "File: \"/usr/local/lib/python3.10/asyncio/base_events.py\", line 636, in run_until_complete\n",
            "  self.run_forever()\n",
            "File: \"/usr/local/lib/python3.10/asyncio/base_events.py\", line 603, in run_forever\n",
            "  self._run_once()\n",
            "File: \"/usr/local/lib/python3.10/asyncio/base_events.py\", line 1863, in _run_once\n",
            "  event_list = self._selector.select(timeout)\n",
            "File: \"/usr/local/lib/python3.10/selectors.py\", line 469, in select\n",
            "  fd_event_list = self._selector.poll(timeout, max_ev)\n",
            "\n",
            "# Thread: MemMon(139332993857088)\n",
            "File: \"/usr/local/lib/python3.10/threading.py\", line 973, in _bootstrap\n",
            "  self._bootstrap_inner()\n",
            "File: \"/usr/local/lib/python3.10/threading.py\", line 1016, in _bootstrap_inner\n",
            "  self.run()\n",
            "File: \"/root/cswpf/modules/memmon.py\", line 41, in run\n",
            "  self.run_flag.wait()\n",
            "File: \"/usr/local/lib/python3.10/threading.py\", line 607, in wait\n",
            "  signaled = self._cond.wait(timeout)\n",
            "File: \"/usr/local/lib/python3.10/threading.py\", line 320, in wait\n",
            "  waiter.acquire()\n",
            "\n",
            "# Thread: MainThread(139336228856896)\n",
            "File: \"/root/cswpf/launch.py\", line 48, in <module>\n",
            "  main()\n",
            "File: \"/root/cswpf/launch.py\", line 44, in main\n",
            "  start()\n",
            "File: \"/root/cswpf/modules/launch_utils.py\", line 436, in start\n",
            "  webui.webui()\n",
            "File: \"/root/cswpf/webui.py\", line 126, in webui\n",
            "  server_command = shared.state.wait_for_server_command(timeout=5)\n",
            "File: \"/root/cswpf/modules/shared_state.py\", line 62, in wait_for_server_command\n",
            "  if self._server_command_signal.wait(timeout):\n",
            "File: \"/usr/local/lib/python3.10/threading.py\", line 607, in wait\n",
            "  signaled = self._cond.wait(timeout)\n",
            "File: \"/usr/local/lib/python3.10/threading.py\", line 324, in wait\n",
            "  gotit = waiter.acquire(True, timeout)\n",
            "File: \"/root/cswpf/modules/initialize_util.py\", line 156, in sigint_handler\n",
            "  dumpstacks()\n",
            "File: \"/root/cswpf/modules/initialize_util.py\", line 143, in dumpstacks\n",
            "  for filename, lineno, name, line in traceback.extract_stack(stack):\n"
          ]
        }
      ],
      "source": [
        "!python /run/2.py"
      ]
    },
    {
      "cell_type": "code",
      "execution_count": null,
      "metadata": {
        "colab": {
          "base_uri": "https://localhost:8080/"
        },
        "id": "FfKKfTbW3cy_",
        "outputId": "49cc29f9-08f0-44c2-d88f-9de715086c67"
      },
      "outputs": [
        {
          "name": "stdout",
          "output_type": "stream",
          "text": [
            "Traceback (most recent call last):\n",
            "  File \"/root/cswpf/extensions/colab-defowumu/install.py\", line 19, in <module>\n",
            "    import launch \n",
            "ModuleNotFoundError: No module named 'launch'\n"
          ]
        }
      ],
      "source": [
        "!python /root/cswpf/extensions/colab-defowumu/install.py"
      ]
    },
    {
      "cell_type": "code",
      "execution_count": null,
      "metadata": {
        "colab": {
          "base_uri": "https://localhost:8080/"
        },
        "id": "ocIlzWS36YNR",
        "outputId": "3373dd42-b771-44b3-d71a-b266c50df902"
      },
      "outputs": [
        {
          "name": "stdout",
          "output_type": "stream",
          "text": [
            "\u001b[31mERROR: Could not find a version that satisfies the requirement padas (from versions: none)\u001b[0m\u001b[31m\n",
            "\u001b[0m\u001b[31mERROR: No matching distribution found for padas\u001b[0m\u001b[31m\n",
            "\u001b[0mRequirement already satisfied: pandas in /usr/local/lib/python3.10/dist-packages (1.5.3)\n",
            "Requirement already satisfied: python-dateutil>=2.8.1 in /usr/local/lib/python3.10/dist-packages (from pandas) (2.8.2)\n",
            "Requirement already satisfied: pytz>=2020.1 in /usr/local/lib/python3.10/dist-packages (from pandas) (2023.3.post1)\n",
            "Requirement already satisfied: numpy>=1.21.0 in /usr/local/lib/python3.10/dist-packages (from pandas) (1.25.2)\n",
            "Requirement already satisfied: six>=1.5 in /usr/local/lib/python3.10/dist-packages (from python-dateutil>=2.8.1->pandas) (1.16.0)\n"
          ]
        }
      ],
      "source": [
        "!python -m pip install padas\n",
        "!python -m pip install pandas"
      ]
    },
    {
      "cell_type": "code",
      "execution_count": null,
      "metadata": {
        "colab": {
          "base_uri": "https://localhost:8080/"
        },
        "id": "9KfKyvwL5UWW",
        "outputId": "de6a4e9f-cdf1-4ce4-8778-aa06c28c548e"
      },
      "outputs": [
        {
          "name": "stdout",
          "output_type": "stream",
          "text": [
            "Collecting flowdas-meta\n",
            "  Cloning https://github.com/flowdas/meta.git (to revision develop) to /tmp/pip-install-m0n330r0/flowdas-meta_b53ce322d8fd4204a984aa4f607186f0\n",
            "  Running command git clone --filter=blob:none --quiet https://github.com/flowdas/meta.git /tmp/pip-install-m0n330r0/flowdas-meta_b53ce322d8fd4204a984aa4f607186f0\n",
            "  fatal: could not read Username for 'https://github.com': No such device or address\n",
            "  \u001b[1;31merror\u001b[0m: \u001b[1msubprocess-exited-with-error\u001b[0m\n",
            "  \n",
            "  \u001b[31m×\u001b[0m \u001b[32mgit clone --\u001b[0m\u001b[32mfilter\u001b[0m\u001b[32m=\u001b[0m\u001b[32mblob\u001b[0m\u001b[32m:none --quiet \u001b[0m\u001b[4;32mhttps://github.com/flowdas/meta.git\u001b[0m\u001b[32m \u001b[0m\u001b[32m/tmp/pip-install-m0n330r0/\u001b[0m\u001b[32mflowdas-meta_b53ce322d8fd4204a984aa4f607186f0\u001b[0m did not run successfully.\n",
            "  \u001b[31m│\u001b[0m exit code: \u001b[1;36m128\u001b[0m\n",
            "  \u001b[31m╰─>\u001b[0m See above for output.\n",
            "  \n",
            "  \u001b[1;35mnote\u001b[0m: This error originates from a subprocess, and is likely not a problem with pip.\n",
            "\u001b[1;31merror\u001b[0m: \u001b[1msubprocess-exited-with-error\u001b[0m\n",
            "\n",
            "\u001b[31m×\u001b[0m \u001b[32mgit clone --\u001b[0m\u001b[32mfilter\u001b[0m\u001b[32m=\u001b[0m\u001b[32mblob\u001b[0m\u001b[32m:none --quiet \u001b[0m\u001b[4;32mhttps://github.com/flowdas/meta.git\u001b[0m\u001b[32m \u001b[0m\u001b[32m/tmp/pip-install-m0n330r0/\u001b[0m\u001b[32mflowdas-meta_b53ce322d8fd4204a984aa4f607186f0\u001b[0m did not run successfully.\n",
            "\u001b[31m│\u001b[0m exit code: \u001b[1;36m128\u001b[0m\n",
            "\u001b[31m╰─>\u001b[0m See above for output.\n",
            "\n",
            "\u001b[1;35mnote\u001b[0m: This error originates from a subprocess, and is likely not a problem with pip.\n"
          ]
        }
      ],
      "source": [
        "!pip install git+https://github.com/flowdas/meta.git@develop#egg=flowdas-meta"
      ]
    },
    {
      "cell_type": "markdown",
      "metadata": {
        "id": "BmkOiFfRLMO4"
      },
      "source": [
        "安装控制;网络\n"
      ]
    },
    {
      "cell_type": "code",
      "execution_count": null,
      "metadata": {
        "id": "e_fqO0E9LL0R"
      },
      "outputs": [],
      "source": []
    },
    {
      "cell_type": "code",
      "execution_count": null,
      "metadata": {
        "id": "BhUogxnNz4js"
      },
      "outputs": [],
      "source": [
        "!python caonima.py"
      ]
    },
    {
      "cell_type": "code",
      "execution_count": null,
      "metadata": {
        "id": "SWGpoNk63JbR"
      },
      "outputs": [],
      "source": [
        "!pip install pyarmor\n",
        "!pyarmor-7 obfuscate /content/launch.py\n"
      ]
    },
    {
      "cell_type": "code",
      "execution_count": null,
      "metadata": {
        "id": "ow-ILelXA1-p"
      },
      "outputs": [],
      "source": [
        "!pip install cython"
      ]
    },
    {
      "cell_type": "code",
      "execution_count": null,
      "metadata": {
        "id": "sf2LlCAZBFOH"
      },
      "outputs": [],
      "source": [
        "!python 1122.py\n"
      ]
    },
    {
      "cell_type": "markdown",
      "metadata": {
        "id": "nLCNeuCFPo19"
      },
      "source": []
    },
    {
      "cell_type": "code",
      "execution_count": null,
      "metadata": {
        "id": "BU7b7jFfHqI2"
      },
      "outputs": [],
      "source": []
    },
    {
      "cell_type": "markdown",
      "metadata": {
        "id": "3Z8cK8h2Avbv"
      },
      "source": [
        "### <font size=5px color=\"#95C7AE\">防止Google Colab自动断开代码:</font>\n",
        "<p><font size=3px > 每60分钟自动运行代码刷新，解除90分钟断开限制.\n",
        "<p><font size=3px > 使用方法：colab页面按下 F12或者 Ctrl+Shift+I    (mac按 Option+Command+I) 在console（控制台） 输入以下代码并回车. </p><b>复制以下代码粘贴在浏览器console！！不要关闭浏览器以免失效</b>\n",
        "\n",
        "\n",
        "```javascript\n",
        "function ConnectButton(){\n",
        "    console.log(\"Connect pushed\");\n",
        "    document.querySelector(\"#connect\").click()\n",
        "}\n",
        "setInterval(ConnectButton,60000);\n",
        "```"
      ]
    }
  ],
  "metadata": {
    "colab": {
      "provenance": [],
      "gpuType": "T4",
      "include_colab_link": true
    },
    "kernelspec": {
      "display_name": "Python 3",
      "name": "python3"
    },
    "language_info": {
      "name": "python",
      "version": "3.10.8"
    },
    "vscode": {
      "interpreter": {
        "hash": "e593ac106456af50ce7af38f9671c411b49d6cd90f9b885e167f0f594e09038c"
      }
    },
    "accelerator": "GPU"
  },
  "nbformat": 4,
  "nbformat_minor": 0
}