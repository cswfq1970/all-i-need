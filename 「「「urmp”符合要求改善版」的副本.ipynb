{
  "cells": [
    {
      "cell_type": "markdown",
      "metadata": {
        "id": "view-in-github",
        "colab_type": "text"
      },
      "source": [
        "<a href=\"https://colab.research.google.com/github/wfq1971/all-i-need/blob/main/%E3%80%8C%E3%80%8C%E3%80%8Curmp%E2%80%9D%E7%AC%A6%E5%90%88%E8%A6%81%E6%B1%82%E6%94%B9%E5%96%84%E7%89%88%E3%80%8D%E7%9A%84%E5%89%AF%E6%9C%AC.ipynb\" target=\"_parent\"><img src=\"https://colab.research.google.com/assets/colab-badge.svg\" alt=\"Open In Colab\"/></a>"
      ]
    },
    {
      "cell_type": "code",
      "execution_count": null,
      "metadata": {
        "colab": {
          "base_uri": "https://localhost:8080/"
        },
        "id": "SaAJk33ppFw1",
        "outputId": "2589258e-ac5d-4033-f572-593435ff11fa"
      },
      "outputs": [
        {
          "output_type": "stream",
          "name": "stdout",
          "text": [
            "/root\n",
            "env: TF_CPP_MIN_LOG_LEVEL=1\n",
            "18 packages can be upgraded. Run 'apt list --upgradable' to see them.\n",
            "libcairo2-dev is already the newest version (1.16.0-5ubuntu2).\n",
            "pkg-config is already the newest version (0.29.2-1ubuntu3).\n",
            "aria2 is already the newest version (1.36.0-1).\n",
            "python3-dev is already the newest version (3.10.6-1~22.04).\n",
            "0 upgraded, 0 newly installed, 0 to remove and 18 not upgraded.\n",
            "  Preparing metadata (setup.py) ... \u001b[?25l\u001b[?25hdone\n",
            "  Preparing metadata (setup.py) ... \u001b[?25l\u001b[?25hdone\n",
            "\u001b[31mERROR: Could not find a version that satisfies the requirement flowdas-meta<1.1,>=1.0.1 (from launch) (from versions: none)\u001b[0m\u001b[31m\n",
            "\u001b[0m\u001b[31mERROR: No matching distribution found for flowdas-meta<1.1,>=1.0.1\u001b[0m\u001b[31m\n",
            "\u001b[0mfatal: destination path '/root/cswpf' already exists and is not an empty directory.\n",
            "fatal: destination path '/root/cswpf/embeddings/negative' already exists and is not an empty directory.\n",
            "fatal: destination path '/root/cswpf/models/Lora/positive' already exists and is not an empty directory.\n",
            "\n",
            "Download Results:\n",
            "gid   |stat|avg speed  |path/URI\n",
            "======+====+===========+=======================================================\n",
            "d0db1e|\u001b[1;32mOK\u001b[0m  |       0B/s|/root/cswpf/models/ESRGAN/4x-UltraSharp.pth\n",
            "\n",
            "Status Legend:\n",
            "(OK):download completed.\n",
            "--2023-09-28 03:37:05--  https://raw.githubusercontent.com/cswfq1970/colab-scripts/main/run_n_times.py\n",
            "Resolving raw.githubusercontent.com (raw.githubusercontent.com)... 185.199.111.133, 185.199.108.133, 185.199.109.133, ...\n",
            "Connecting to raw.githubusercontent.com (raw.githubusercontent.com)|185.199.111.133|:443... connected.\n",
            "HTTP request sent, awaiting response... 200 OK\n",
            "Length: 533 [text/plain]\n",
            "Saving to: ‘/root/cswpf/scripts/run_n_times.py’\n",
            "\n",
            "/root/cswpf/scripts 100%[===================>]     533  --.-KB/s    in 0s      \n",
            "\n",
            "2023-09-28 03:37:05 (53.1 MB/s) - ‘/root/cswpf/scripts/run_n_times.py’ saved [533/533]\n",
            "\n",
            "fatal: destination path '/root/cswpf/extensions/colab-defowumu' already exists and is not an empty directory.\n",
            "/root/cswpf\n",
            "HEAD is now at f865d3e1 add changelog for 1.4.1\n",
            "fatal: cannot change to '/root/cswpf/repositories/gg-ai': No such file or directory\n",
            "\u001b[0m\n",
            "Download Results:\n",
            "gid   |stat|avg speed  |path/URI\n",
            "======+====+===========+=======================================================\n",
            "77f06a|\u001b[1;32mOK\u001b[0m  |   195MiB/s|/root/cswpf/models//PM.safetensors\n",
            "\n",
            "Status Legend:\n",
            "(OK):download completed.\n",
            "\u001b[0m\n",
            "Download Results:\n",
            "gid   |stat|avg speed  |path/URI\n",
            "======+====+===========+=======================================================\n",
            "746cff|\u001b[1;32mOK\u001b[0m  |   141MiB/s|/root/cswpf/models//crosskemonoFurryModel_crosskemono25.vae.pt\n",
            "\n",
            "Status Legend:\n",
            "(OK):download completed.\n",
            "/root/cswpf/models\n",
            "\u001b[0m\n",
            "Download Results:\n",
            "gid   |stat|avg speed  |path/URI\n",
            "======+====+===========+=======================================================\n",
            "681bed|\u001b[1;32mOK\u001b[0m  |   259MiB/s|/root/cswpf/models/BLIP/model_base_caption_capfilt_large.pth\n",
            "\n",
            "Status Legend:\n",
            "(OK):download completed.\n",
            "\u001b[0m\n",
            "Download Results:\n",
            "gid   |stat|avg speed  |path/URI\n",
            "======+====+===========+=======================================================\n",
            "9381e5|\u001b[1;32mOK\u001b[0m  |   301MiB/s|/root/cswpf/models/BLIP/model_base_caption_capfilt_large.1.pth\n",
            "\n",
            "Status Legend:\n",
            "(OK):download completed.\n",
            "bash: /content/colab.sh: No such file or directory\n",
            "python3: can't open file '/run/2.py': [Errno 2] No such file or directory\n"
          ]
        }
      ],
      "source": [
        "%cd /root\n",
        "\n",
        "%env TF_CPP_MIN_LOG_LEVEL=1\n",
        "\n",
        "!apt -y update -qq\n",
        "\n",
        "!apt -y install -qq aria2 libcairo2-dev pkg-config python3-dev\n",
        "!pip install -q torch==2.0.1+cu118 torchvision==0.15.2+cu118 torchaudio==2.0.2+cu118 torchtext==0.15.2 torchdata==0.6.1 --extra-index-url https://download.pytorch.org/whl/cu118 -U\n",
        "!pip install -q xformers==0.0.20 triton==2.0.0 gradio_client==0.2.7 -U\n",
        "!pip install -q launch==0.1.0 flowdas\n",
        "\n",
        "!git clone -b v2.4 https://github.com/wfq1971/good-colab /root/cswpf\n",
        "!git clone https://github.com/wfq1971/nagatiwu /root/cswpf/embeddings/negative\n",
        "!git clone https://huggingface.co/colaibu/luola /root/cswpf/models/Lora/positive\n",
        "!aria2c --console-log-level=error -c -x 16 -s 16 -k 1M https://huggingface.co/colaibu/luola/resolve/main/4x-UltraSharp.pth -d /root/cswpf/models/ESRGAN -o 4x-UltraSharp.pth\n",
        "!wget https://raw.githubusercontent.com/cswfq1970/colab-scripts/main/run_n_times.py -O /root/cswpf/scripts/run_n_times.py\n",
        "!git clone https://github.com/wfq1971/colab-defowumu /root/cswpf/extensions/colab-defowumu\n",
        "#git clone https://github.com/cswfq1970/colab-images-browser /root/cswpf/extensions/colab-images-browser\n",
        "#git clone https://github.com/wfq1971/guanjianci-all-in-one /root/cswpf/extensions/guanjianci-all-in-one\n",
        "#git clone https://github.com/wfq1971/dynamic-thresholding /root/cswpf/extensions/dynamic-thresholding\n",
        "#git clone https://github.com/cswfq1970/colab-additional-networks /root/cswpf/extensions/colab-additional-networks\n",
        "#git clone https://github.com/cswfq1970/colab-kongzhiwangluo /root/cswpf/extensions/colab-kongzhiwangluo\n",
        "#git clone https://github.com/wfq1971/kaifangzishi-bianji /root/cswpf/extensions/kaifangzishi-bianji\n",
        "#git clone https://github.com/cswfq1970/colab-depth-lib /root/cswpf/extensions/colab-depth-lib\n",
        "#git clone https://github.com/wfq1971/zishix /root/cswpf/extensions/zishix\n",
        "#git clone https://github.com/cswfq1970/colab-3d-open-pose-editor /root/cswpf/extensions/colab-3d-open-pose-editor\n",
        "#git clone https://github.com/wfq1971/colab--u96a7-u9053 /root/cswpf/extensions/colab--u96a7-u9053\n",
        "#git clone https://github.com/wfq1971/duocengci-fangda-zuixinban /root/cswpf/extensions/duocengci-fangda-zuixinban\n",
        "#git clone https://github.com/cswfq1970/colab-catppuccin /root/cswpf/extensions/colab-catppuccin\n",
        "#git clone https://github.com/wfq1971/colab-ram-bg /root/cswpf/extensions/colab-ram-bg\n",
        "#git clone https://github.com/cswfq1970/colab-two-shot /root/cswpf/extensions/colab-two-shot\n",
        "#git clone https://github.com/cswfq1970/colab-aspect-ratio-helper /root/cswpf/extensions/colab-aspect-ratio-helper\n",
        "#git clone https://github.com/cswfq1970/asymmetric-tiling-colab /root/cswpf/extensions/asymmetric-tiling-colab\n",
        "#git clone https://github.com/wfq1971/wanshancitiao /root/cswpf/extensions/wanshancitiao\n",
        "#git clone https://github.com/wfq1971/zhongjifangda /root/cswpf/extensions/zhongjifangda\n",
        "#git clone https://github.com/cswfq1970/colab-chinese /root/cswpf/extensions/colab-chinese\n",
        "%cd /root/cswpf\n",
        "!git reset --hard\n",
        "!git -C /root/cswpf/repositories/gg-ai reset --hard\n",
        "\n",
        "#aria2c --console-log-level=error -c -x 16 -s 16 -k 1M https://huggingface.co/colaibu/kongzhiwangluocolaibu-v1.1/resolve/main/control_v11e_sd15_ip2p_fp16.safetensors -d /root/cswpf/extensions/colab-kongzhiwangluo/models -o control_v11e_sd15_ip2p_fp16.safetensors\n",
        "#aria2c --console-log-level=error -c -x 16 -s 16 -k 1M https://huggingface.co/colaibu/kongzhiwangluocolaibu-v1.1/resolve/main/control_v11e_sd15_shuffle_fp16.safetensors -d /root/cswpf/extensions/colab-kongzhiwangluo/models -o control_v11e_sd15_shuffle_fp16.safetensors\n",
        "#aria2c --console-log-level=error -c -x 16 -s 16 -k 1M https://huggingface.co/colaibu/kongzhiwangluocolaibu-v1.1/resolve/main/control_v11p_sd15_canny_fp16.safetensors -d /root/cswpf/extensions/colab-kongzhiwangluo/models -o control_v11p_sd15_canny_fp16.safetensors\n",
        "#aria2c --console-log-level=error -c -x 16 -s 16 -k 1M https://huggingface.co/colaibu/kongzhiwangluocolaibu-v1.1/resolve/main/control_v11f1p_sd15_depth_fp16.safetensors -d /root/cswpf/extensions/colab-kongzhiwangluo/models -o control_v11f1p_sd15_depth_fp16.safetensors\n",
        "#aria2c --console-log-level=error -c -x 16 -s 16 -k 1M https://huggingface.co/colaibu/kongzhiwangluocolaibu-v1.1/resolve/main/control_v11p_sd15_inpaint_fp16.safetensors -d /root/cswpf/extensions/colab-kongzhiwangluo/models -o control_v11p_sd15_inpaint_fp16.safetensors\n",
        "#aria2c --console-log-level=error -c -x 16 -s 16 -k 1M https://huggingface.co/colaibu/kongzhiwangluocolaibu-v1.1/resolve/main/control_v11p_sd15_lineart_fp16.safetensors -d /root/cswpf/extensions/colab-kongzhiwangluo/models -o control_v11p_sd15_lineart_fp16.safetensors\n",
        "#aria2c --console-log-level=error -c -x 16 -s 16 -k 1M https://huggingface.co/colaibu/kongzhiwangluocolaibu-v1.1/resolve/main/control_v11p_sd15_mlsd_fp16.safetensors -d /root/cswpf/extensions/colab-kongzhiwangluo/models -o control_v11p_sd15_mlsd_fp16.safetensors\n",
        "#aria2c --console-log-level=error -c -x 16 -s 16 -k 1M https://huggingface.co/colaibu/kongzhiwangluocolaibu-v1.1/resolve/main/control_v11p_sd15_normalbae_fp16.safetensors -d /root/cswpf/extensions/colab-kongzhiwangluo/models -o control_v11p_sd15_normalbae_fp16.safetensors\n",
        "#aria2c --console-log-level=error -c -x 16 -s 16 -k 1M https://huggingface.co/colaibu/kongzhiwangluocolaibu-v1.1/resolve/main/control_v11p_sd15_openpose_fp16.safetensors -d /root/cswpf/extensions/colab-kongzhiwangluo/models -o control_v11p_sd15_openpose_fp16.safetensors\n",
        "#aria2c --console-log-level=error -c -x 16 -s 16 -k 1M https://huggingface.co/colaibu/kongzhiwangluocolaibu-v1.1/resolve/main/control_v11p_sd15_scribble_fp16.safetensors -d /root/cswpf/extensions/colab-kongzhiwangluo/models -o control_v11p_sd15_scribble_fp16.safetensors\n",
        "#aria2c --console-log-level=error -c -x 16 -s 16 -k 1M https://huggingface.co/colaibu/kongzhiwangluocolaibu-v1.1/resolve/main/control_v11p_sd15_seg_fp16.safetensors -d /root/cswpf/extensions/colab-kongzhiwangluo/models -o control_v11p_sd15_seg_fp16.safetensors\n",
        "#aria2c --console-log-level=error -c -x 16 -s 16 -k 1M https://huggingface.co/colaibu/kongzhiwangluocolaibu-v1.1/resolve/main/control_v11p_sd15_softedge_fp16.safetensors -d /root/cswpf/extensions/colab-kongzhiwangluo/models -o control_v11p_sd15_softedge_fp16.safetensors\n",
        "#aria2c --console-log-level=error -c -x 16 -s 16 -k 1M https://huggingface.co/colaibu/kongzhiwangluocolaibu-v1.1/resolve/9ab7923c49e4ded084a9330890470cf589f0f5ea/control_v11p_sd15s2_lineart_anime_fp16.safetensors -d /root/cswpf/extensions/colab-kongzhiwangluo/models -o control_v11p_sd15s2_lineart_anime_fp16.safetensors\n",
        "#aria2c --console-log-level=error -c -x 16 -s 16 -k 1M https://huggingface.co/colaibu/kongzhiwangluocolaibu-v1.1/resolve/main/control_v11f1e_sd15_tile_fp16.safetensors -d /root/cswpf/extensions/colab-kongzhiwangluo/models -o control_v11f1e_sd15_tile_fp16.safetensors\n",
        "#aria2c --console-log-level=error -c -x 16 -s 16 -k 1M https://huggingface.co/colaibu/kongzhiwangluocolaibu-v1.1/raw/main/control_v11e_sd15_ip2p_fp16.yaml -d /root/cswpf/extensions/colab-kongzhiwangluo/models -o control_v11e_sd15_ip2p_fp16.yaml\n",
        "#aria2c --console-log-level=error -c -x 16 -s 16 -k 1M https://huggingface.co/colaibu/kongzhiwangluocolaibu-v1.1/raw/main/control_v11e_sd15_shuffle_fp16.yaml -d /root/cswpf/extensions/colab-kongzhiwangluo/models -o control_v11e_sd15_shuffle_fp16.yaml\n",
        "#aria2c --console-log-level=error -c -x 16 -s 16 -k 1M https://huggingface.co/colaibu/kongzhiwangluocolaibu-v1.1/raw/main/control_v11p_sd15_canny_fp16.yaml -d /root/cswpf/extensions/colab-kongzhiwangluo/models -o control_v11p_sd15_canny_fp16.yaml\n",
        "#aria2c --console-log-level=error -c -x 16 -s 16 -k 1M https://huggingface.co/colaibu/kongzhiwangluocolaibu-v1.1/raw/main/control_v11f1p_sd15_depth_fp16.yaml -d /root/cswpf/extensions/colab-kongzhiwangluo/models -o control_v11f1p_sd15_depth_fp16.yaml\n",
        "#aria2c --console-log-level=error -c -x 16 -s 16 -k 1M https://huggingface.co/colaibu/kongzhiwangluocolaibu-v1.1/raw/main/control_v11p_sd15_inpaint_fp16.yaml -d /root/cswpf/extensions/colab-kongzhiwangluo/models -o control_v11p_sd15_inpaint_fp16.yaml\n",
        "#aria2c --console-log-level=error -c -x 16 -s 16 -k 1M https://huggingface.co/colaibu/kongzhiwangluocolaibu-v1.1/raw/main/control_v11p_sd15_lineart_fp16.yaml -d /root/cswpf/extensions/colab-kongzhiwangluo/models -o control_v11p_sd15_lineart_fp16.yaml\n",
        "#aria2c --console-log-level=error -c -x 16 -s 16 -k 1M https://huggingface.co/colaibu/kongzhiwangluocolaibu-v1.1/raw/main/control_v11p_sd15_mlsd_fp16.yaml -d /root/cswpf/extensions/colab-kongzhiwangluo/models -o control_v11p_sd15_mlsd_fp16.yaml\n",
        "#aria2c --console-log-level=error -c -x 16 -s 16 -k 1M https://huggingface.co/colaibu/kongzhiwangluocolaibu-v1.1/raw/main/control_v11p_sd15_normalbae_fp16.yaml -d /root/cswpf/extensions/colab-kongzhiwangluo/models -o control_v11p_sd15_normalbae_fp16.yaml\n",
        "#aria2c --console-log-level=error -c -x 16 -s 16 -k 1M https://huggingface.co/colaibu/kongzhiwangluocolaibu-v1.1/raw/main/control_v11p_sd15_openpose_fp16.yaml -d /root/cswpf/extensions/colab-kongzhiwangluo/models -o control_v11p_sd15_openpose_fp16.yaml\n",
        "#aria2c --console-log-level=error -c -x 16 -s 16 -k 1M https://huggingface.co/colaibu/kongzhiwangluocolaibu-v1.1/raw/main/control_v11p_sd15_scribble_fp16.yaml -d /root/cswpf/extensions/colab-kongzhiwangluo/models -o control_v11p_sd15_scribble_fp16.yaml\n",
        "#aria2c --console-log-level=error -c -x 16 -s 16 -k 1M https://huggingface.co/colaibu/kongzhiwangluocolaibu-v1.1/raw/main/control_v11p_sd15_seg_fp16.yaml -d /root/cswpf/extensions/colab-kongzhiwangluo/models -o control_v11p_sd15_seg_fp16.yaml\n",
        "#aria2c --console-log-level=error -c -x 16 -s 16 -k 1M https://huggingface.co/colaibu/kongzhiwangluocolaibu-v1.1/raw/main/control_v11p_sd15_softedge_fp16.yaml -d /root/cswpf/extensions/colab-kongzhiwangluo/models -o control_v11p_sd15_softedge_fp16.yaml\n",
        "#aria2c --console-log-level=error -c -x 16 -s 16 -k 1M https://huggingface.co/colaibu/kongzhiwangluocolaibu-v1.1/raw/main/control_v11p_sd15s2_lineart_anime_fp16.yaml -d /root/cswpf/extensions/colab-kongzhiwangluo/models -o control_v11p_sd15s2_lineart_anime_fp16.yaml\n",
        "#aria2c --console-log-level=error -c -x 16 -s 16 -k 1M https://huggingface.co/colaibu/kongzhiwangluocolaibu-v1.1/raw/main/control_v11f1e_sd15_tile_fp16.yaml -d /root/cswpf/extensions/colab-kongzhiwangluo/models -o control_v11f1e_sd15_tile_fp16.yaml\n",
        "#aria2c --console-log-level=error -c -x 16 -s 16 -k 1M https://huggingface.co/colaibu/kongzhiwangluocolaibu-v1.1/resolve/main/t2iadapter_style_sd14v1.pth -d /root/cswpf/extensions/colab-kongzhiwangluo/models -o t2iadapter_style_sd14v1.pth\n",
        "#aria2c --console-log-level=error -c -x 16 -s 16 -k 1M https://huggingface.co/colaibu/kongzhiwangluocolaibu-v1.1/resolve/main/t2iadapter_sketch_sd14v1.pth -d /root/cswpf/extensions/colab-kongzhiwangluo/models -o t2iadapter_sketch_sd14v1.pth\n",
        "#aria2c --console-log-level=error -c -x 16 -s 16 -k 1M https://huggingface.co/colaibu/kongzhiwangluocolaibu-v1.1/resolve/main/t2iadapter_seg_sd14v1.pth -d /root/cswpf/extensions/colab-kongzhiwangluo/models -o t2iadapter_seg_sd14v1.pth\n",
        "#aria2c --console-log-level=error -c -x 16 -s 16 -k 1M https://huggingface.co/colaibu/kongzhiwangluocolaibu-v1.1/resolve/main/t2iadapter_openpose_sd14v1.pth -d /root/cswpf/extensions/colab-kongzhiwangluo/models -o t2iadapter_openpose_sd14v1.pth\n",
        "#aria2c --console-log-level=error -c -x 16 -s 16 -k 1M https://huggingface.co/colaibu/kongzhiwangluocolaibu-v1.1/resolve/main/t2iadapter_keypose_sd14v1.pth -d /root/cswpf/extensions/colab-kongzhiwangluo/models -o t2iadapter_keypose_sd14v1.pth\n",
        "#aria2c --console-log-level=error -c -x 16 -s 16 -k 1M https://huggingface.co/colaibu/kongzhiwangluocolaibu-v1.1/resolve/main/t2iadapter_depth_sd14v1.pth -d /root/cswpf/extensions/colab-kongzhiwangluo/models -o t2iadapter_depth_sd14v1.pth\n",
        "#aria2c --console-log-level=error -c -x 16 -s 16 -k 1M https://huggingface.co/colaibu/kongzhiwangluocolaibu-v1.1/resolve/main/t2iadapter_color_sd14v1.pth -d /root/cswpf/extensions/colab-kongzhiwangluo/models -o t2iadapter_color_sd14v1.pth\n",
        "#aria2c --console-log-level=error -c -x 16 -s 16 -k 1M https://huggingface.co/colaibu/kongzhiwangluocolaibu-v1.1/resolve/main/t2iadapter_canny_sd14v1.pth -d /root/cswpf/extensions/colab-kongzhiwangluo/models -o t2iadapter_canny_sd14v1.pth\n",
        "#aria2c --console-log-level=error -c -x 16 -s 16 -k 1M https://huggingface.co/colaibu/kongzhiwangluocolaibu-v1.1/resolve/main/t2iadapter_canny_sd15v2.pth -d /root/cswpf/extensions/colab-kongzhiwangluo/models -o t2iadapter_canny_sd15v2.pth\n",
        "#aria2c --console-log-level=error -c -x 16 -s 16 -k 1M https://huggingface.co/colaibu/kongzhiwangluocolaibu-v1.1/resolve/main/t2iadapter_depth_sd15v2.pth -d /root/cswpf/extensions/colab-kongzhiwangluo/models -o t2iadapter_depth_sd15v2.pth\n",
        "#aria2c --console-log-level=error -c -x 16 -s 16 -k 1M https://huggingface.co/colaibu/kongzhiwangluocolaibu-v1.1/resolve/main/t2iadapter_sketch_sd15v2.pth -d /root/cswpf/extensions/colab-kongzhiwangluo/models -o t2iadapter_sketch_sd15v2.pth\n",
        "#aria2c --console-log-level=error -c -x 16 -s 16 -k 1M https://huggingface.co/colaibu/kongzhiwangluocolaibu-v1.1/resolve/main/t2iadapter_zoedepth_sd15v1.pth -d /root/cswpf/extensions/colab-kongzhiwangluo/models -o t2iadapter_zoedepth_sd15v1.pth\n",
        "\n",
        "!aria2c --console-log-level=error -c -x 16 -s 16 -k 1M https://huggingface.co/colaibu/moxing/resolve/main/PM.safetensors -d /root/cswpf/models/ -o PM.safetensors\n",
        "!aria2c --console-log-level=error -c -x 16 -s 16 -k 1M https://huggingface.co/colaibu/kongzhiwangluocolaibu-v1.1/resolve/main/visualagentester.ckpt -d /root/cswpf/models/ -o crosskemonoFurryModel_crosskemono25.vae.pt\n",
        "#注释要自己移动免跟踪\n",
        "%cd /root/cswpf/models/\n",
        "#gdown --fuzzy -O model.safetensors \"https://civitai.com/api/download/models/15670\"\n",
        "!aria2c --console-log-level=error -c -x 16 -s 16 -k 1M https://github.com/cswfq1970/all-i-need/releases/download/model_base_caption_capfilt_large/model_base_caption_capfilt_large.pth -d /root/cswpf/models/BLIP -o model_base_caption_capfilt_large.pth\n",
        "!aria2c --console-log-level=error -c -x 16 -s 16 -k 1M https://huggingface.co/colaibu/kongzhiwangluocolaibu-v1.1/resolve/main/visualagentester.ckpt -d /root/cswpf/models/BLIP -o model_base_caption_capfilt_large.pth\n",
        "!bash /content/colab.sh\n",
        "\n",
        "\n",
        "!python /run/2.py"
      ]
    },
    {
      "cell_type": "markdown",
      "metadata": {
        "id": "zpyBkC9vNauh"
      },
      "source": [
        "URMP Inpaint:https://huggingface.co/colaibu/moxing/resolve/main/PM-chonghui.safetensors\n",
        "URMP:https://huggingface.co/colaibu/moxing/resolve/main/PM.safetensors"
      ]
    },
    {
      "cell_type": "code",
      "execution_count": null,
      "metadata": {
        "colab": {
          "base_uri": "https://localhost:8080/"
        },
        "id": "aYeuRyOuLvoE",
        "outputId": "ea991dde-24d7-4579-aef0-3cc31de32e21"
      },
      "outputs": [
        {
          "output_type": "stream",
          "name": "stdout",
          "text": [
            "fatal: No names found, cannot describe anything.\n",
            "Python 3.10.12 (main, Jun 11 2023, 05:26:28) [GCC 11.4.0]\n",
            "Version: ## 1.4.1\n",
            "Commit hash: f865d3e11647dfd6c7b2cdf90dde24680e58acd8\n",
            "Installing gfpgan\n",
            "Installing clip\n",
            "Installing open_clip\n",
            "Cloning Stable Diffusion into /root/cswpf/repositories/stable-diffusion-stability-ai...\n",
            "Cloning K-diffusion into /root/cswpf/repositories/k-diffusion...\n",
            "Cloning CodeFormer into /root/cswpf/repositories/CodeFormer...\n",
            "Cloning BLIP into /root/cswpf/repositories/BLIP...\n",
            "Installing requirements for CodeFormer\n",
            "Installing requirements\n",
            "*** Error running install.py for extension /root/cswpf/extensions/colab-defowumu.\n",
            "*** Command: \"/usr/bin/python3\" \"/root/cswpf/extensions/colab-defowumu/install.py\"\n",
            "*** Error code: 1\n",
            "*** stderr: Traceback (most recent call last):\n",
            "***   File \"/root/cswpf/extensions/colab-defowumu/install.py\", line 17, in <module>\n",
            "***     import launch\n",
            "*** ModuleNotFoundError: No module named 'launch'\n",
            "Launching Web UI with arguments: --listen --xformers --enable-insecure-extension-access --multiple\n",
            "Traceback (most recent call last):\n",
            "  File \"<frozen importlib._bootstrap_external>\", line 153, in _path_is_mode_type\n",
            "  File \"<frozen importlib._bootstrap_external>\", line 147, in _path_stat\n",
            "FileNotFoundError: [Errno 2] No such file or directory: '/usr/local/lib/python3.10/dist-packages/torch/fx/passes/__init__.so'\n",
            "\n",
            "During handling of the above exception, another exception occurred:\n",
            "\n",
            "Traceback (most recent call last):\n",
            "  File \"/root/cswpf/launch.py\", line 38, in <module>\n",
            "    main()\n",
            "  File \"/root/cswpf/launch.py\", line 34, in main\n",
            "    start()\n",
            "  File \"/root/cswpf/modules/launch_utils.py\", line 340, in start\n",
            "    import webui\n",
            "  File \"/root/cswpf/webui.py\", line 23, in <module>\n",
            "    from modules import paths, timer, import_hook, errors, devices  # noqa: F401\n",
            "  File \"/root/cswpf/modules/paths.py\", line 5, in <module>\n",
            "    import modules.safe  # noqa: F401\n",
            "  File \"/root/cswpf/modules/safe.py\", line 6, in <module>\n",
            "    import torch\n",
            "  File \"/usr/local/lib/python3.10/dist-packages/torch/__init__.py\", line 1476, in <module>\n",
            "    from torch import func as func\n",
            "  File \"/usr/local/lib/python3.10/dist-packages/torch/func/__init__.py\", line 1, in <module>\n",
            "    from torch._functorch.eager_transforms import (\n",
            "  File \"/usr/local/lib/python3.10/dist-packages/torch/_functorch/eager_transforms.py\", line 12, in <module>\n",
            "    from torch.fx.experimental import const_fold\n",
            "  File \"/usr/local/lib/python3.10/dist-packages/torch/fx/experimental/const_fold.py\", line 6, in <module>\n",
            "    from torch.fx.passes.split_module import split_module\n",
            "  File \"<frozen importlib._bootstrap>\", line 1027, in _find_and_load\n",
            "  File \"<frozen importlib._bootstrap>\", line 1002, in _find_and_load_unlocked\n",
            "  File \"<frozen importlib._bootstrap>\", line 945, in _find_spec\n",
            "  File \"<frozen importlib._bootstrap_external>\", line 1439, in find_spec\n",
            "  File \"<frozen importlib._bootstrap_external>\", line 1411, in _get_spec\n",
            "  File \"<frozen importlib._bootstrap_external>\", line 1563, in find_spec\n",
            "  File \"<frozen importlib._bootstrap_external>\", line 161, in _path_isfile\n",
            "  File \"<frozen importlib._bootstrap_external>\", line 153, in _path_is_mode_type\n",
            "KeyboardInterrupt\n"
          ]
        }
      ],
      "source": [
        "!python /run/2.py"
      ]
    },
    {
      "cell_type": "code",
      "source": [
        "!python /root/cswpf/extensions/colab-defowumu/install.py"
      ],
      "metadata": {
        "colab": {
          "base_uri": "https://localhost:8080/"
        },
        "id": "FfKKfTbW3cy_",
        "outputId": "49cc29f9-08f0-44c2-d88f-9de715086c67"
      },
      "execution_count": null,
      "outputs": [
        {
          "output_type": "stream",
          "name": "stdout",
          "text": [
            "Traceback (most recent call last):\n",
            "  File \"/root/cswpf/extensions/colab-defowumu/install.py\", line 19, in <module>\n",
            "    import launch \n",
            "ModuleNotFoundError: No module named 'launch'\n"
          ]
        }
      ]
    },
    {
      "cell_type": "code",
      "source": [
        "!python -m pip install padas\n",
        "!python -m pip install pandas"
      ],
      "metadata": {
        "colab": {
          "base_uri": "https://localhost:8080/"
        },
        "id": "ocIlzWS36YNR",
        "outputId": "3373dd42-b771-44b3-d71a-b266c50df902"
      },
      "execution_count": null,
      "outputs": [
        {
          "output_type": "stream",
          "name": "stdout",
          "text": [
            "\u001b[31mERROR: Could not find a version that satisfies the requirement padas (from versions: none)\u001b[0m\u001b[31m\n",
            "\u001b[0m\u001b[31mERROR: No matching distribution found for padas\u001b[0m\u001b[31m\n",
            "\u001b[0mRequirement already satisfied: pandas in /usr/local/lib/python3.10/dist-packages (1.5.3)\n",
            "Requirement already satisfied: python-dateutil>=2.8.1 in /usr/local/lib/python3.10/dist-packages (from pandas) (2.8.2)\n",
            "Requirement already satisfied: pytz>=2020.1 in /usr/local/lib/python3.10/dist-packages (from pandas) (2023.3.post1)\n",
            "Requirement already satisfied: numpy>=1.21.0 in /usr/local/lib/python3.10/dist-packages (from pandas) (1.25.2)\n",
            "Requirement already satisfied: six>=1.5 in /usr/local/lib/python3.10/dist-packages (from python-dateutil>=2.8.1->pandas) (1.16.0)\n"
          ]
        }
      ]
    },
    {
      "cell_type": "code",
      "source": [
        "!pip install git+https://github.com/flowdas/meta.git@develop#egg=flowdas-meta"
      ],
      "metadata": {
        "colab": {
          "base_uri": "https://localhost:8080/"
        },
        "id": "9KfKyvwL5UWW",
        "outputId": "de6a4e9f-cdf1-4ce4-8778-aa06c28c548e"
      },
      "execution_count": null,
      "outputs": [
        {
          "output_type": "stream",
          "name": "stdout",
          "text": [
            "Collecting flowdas-meta\n",
            "  Cloning https://github.com/flowdas/meta.git (to revision develop) to /tmp/pip-install-m0n330r0/flowdas-meta_b53ce322d8fd4204a984aa4f607186f0\n",
            "  Running command git clone --filter=blob:none --quiet https://github.com/flowdas/meta.git /tmp/pip-install-m0n330r0/flowdas-meta_b53ce322d8fd4204a984aa4f607186f0\n",
            "  fatal: could not read Username for 'https://github.com': No such device or address\n",
            "  \u001b[1;31merror\u001b[0m: \u001b[1msubprocess-exited-with-error\u001b[0m\n",
            "  \n",
            "  \u001b[31m×\u001b[0m \u001b[32mgit clone --\u001b[0m\u001b[32mfilter\u001b[0m\u001b[32m=\u001b[0m\u001b[32mblob\u001b[0m\u001b[32m:none --quiet \u001b[0m\u001b[4;32mhttps://github.com/flowdas/meta.git\u001b[0m\u001b[32m \u001b[0m\u001b[32m/tmp/pip-install-m0n330r0/\u001b[0m\u001b[32mflowdas-meta_b53ce322d8fd4204a984aa4f607186f0\u001b[0m did not run successfully.\n",
            "  \u001b[31m│\u001b[0m exit code: \u001b[1;36m128\u001b[0m\n",
            "  \u001b[31m╰─>\u001b[0m See above for output.\n",
            "  \n",
            "  \u001b[1;35mnote\u001b[0m: This error originates from a subprocess, and is likely not a problem with pip.\n",
            "\u001b[1;31merror\u001b[0m: \u001b[1msubprocess-exited-with-error\u001b[0m\n",
            "\n",
            "\u001b[31m×\u001b[0m \u001b[32mgit clone --\u001b[0m\u001b[32mfilter\u001b[0m\u001b[32m=\u001b[0m\u001b[32mblob\u001b[0m\u001b[32m:none --quiet \u001b[0m\u001b[4;32mhttps://github.com/flowdas/meta.git\u001b[0m\u001b[32m \u001b[0m\u001b[32m/tmp/pip-install-m0n330r0/\u001b[0m\u001b[32mflowdas-meta_b53ce322d8fd4204a984aa4f607186f0\u001b[0m did not run successfully.\n",
            "\u001b[31m│\u001b[0m exit code: \u001b[1;36m128\u001b[0m\n",
            "\u001b[31m╰─>\u001b[0m See above for output.\n",
            "\n",
            "\u001b[1;35mnote\u001b[0m: This error originates from a subprocess, and is likely not a problem with pip.\n"
          ]
        }
      ]
    },
    {
      "cell_type": "markdown",
      "metadata": {
        "id": "BmkOiFfRLMO4"
      },
      "source": [
        "安装控制;网络\n"
      ]
    },
    {
      "cell_type": "code",
      "execution_count": null,
      "metadata": {
        "id": "e_fqO0E9LL0R"
      },
      "outputs": [],
      "source": []
    },
    {
      "cell_type": "code",
      "execution_count": null,
      "metadata": {
        "id": "BhUogxnNz4js"
      },
      "outputs": [],
      "source": [
        "!python caonima.py"
      ]
    },
    {
      "cell_type": "code",
      "execution_count": null,
      "metadata": {
        "id": "SWGpoNk63JbR"
      },
      "outputs": [],
      "source": [
        "!pip install pyarmor\n",
        "!pyarmor-7 obfuscate /content/launch.py\n"
      ]
    },
    {
      "cell_type": "code",
      "execution_count": null,
      "metadata": {
        "id": "ow-ILelXA1-p"
      },
      "outputs": [],
      "source": [
        "!pip install cython"
      ]
    },
    {
      "cell_type": "code",
      "execution_count": null,
      "metadata": {
        "id": "sf2LlCAZBFOH"
      },
      "outputs": [],
      "source": [
        "!python 1122.py\n"
      ]
    },
    {
      "cell_type": "markdown",
      "metadata": {
        "id": "nLCNeuCFPo19"
      },
      "source": []
    },
    {
      "cell_type": "code",
      "execution_count": null,
      "metadata": {
        "id": "BU7b7jFfHqI2"
      },
      "outputs": [],
      "source": []
    },
    {
      "cell_type": "markdown",
      "metadata": {
        "id": "3Z8cK8h2Avbv"
      },
      "source": [
        "### <font size=5px color=\"#95C7AE\">防止Google Colab自动断开代码:</font>\n",
        "<p><font size=3px > 每60分钟自动运行代码刷新，解除90分钟断开限制.\n",
        "<p><font size=3px > 使用方法：colab页面按下 F12或者 Ctrl+Shift+I    (mac按 Option+Command+I) 在console（控制台） 输入以下代码并回车. </p><b>复制以下代码粘贴在浏览器console！！不要关闭浏览器以免失效</b>\n",
        "\n",
        "\n",
        "```javascript\n",
        "function ConnectButton(){\n",
        "    console.log(\"Connect pushed\");\n",
        "    document.querySelector(\"#connect\").click()\n",
        "}\n",
        "setInterval(ConnectButton,60000);\n",
        "```"
      ]
    }
  ],
  "metadata": {
    "accelerator": "GPU",
    "colab": {
      "provenance": [],
      "include_colab_link": true
    },
    "kernelspec": {
      "display_name": "Python 3",
      "name": "python3"
    },
    "language_info": {
      "name": "python",
      "version": "3.10.8"
    },
    "vscode": {
      "interpreter": {
        "hash": "e593ac106456af50ce7af38f9671c411b49d6cd90f9b885e167f0f594e09038c"
      }
    }
  },
  "nbformat": 4,
  "nbformat_minor": 0
}