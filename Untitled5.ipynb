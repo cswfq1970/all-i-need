{
  "nbformat": 4,
  "nbformat_minor": 0,
  "metadata": {
    "colab": {
      "provenance": [],
      "authorship_tag": "ABX9TyO5+TQpOyfBSy7PFj9YiPaK",
      "include_colab_link": true
    },
    "kernelspec": {
      "name": "python3",
      "display_name": "Python 3"
    },
    "language_info": {
      "name": "python"
    }
  },
  "cells": [
    {
      "cell_type": "markdown",
      "metadata": {
        "id": "view-in-github",
        "colab_type": "text"
      },
      "source": [
        "<a href=\"https://colab.research.google.com/github/wfq1971/all-i-need/blob/main/Untitled5.ipynb\" target=\"_parent\"><img src=\"https://colab.research.google.com/assets/colab-badge.svg\" alt=\"Open In Colab\"/></a>"
      ]
    },
    {
      "cell_type": "code",
      "execution_count": 1,
      "metadata": {
        "colab": {
          "base_uri": "https://localhost:8080/"
        },
        "id": "KmRiMxEdE5iZ",
        "outputId": "0bfc665a-c13a-4f78-c7a2-66941db26cb2"
      },
      "outputs": [
        {
          "output_type": "stream",
          "name": "stdout",
          "text": [
            "/root\n",
            "The following additional packages will be installed:\n",
            "  libaria2-0 libc-ares2\n",
            "The following NEW packages will be installed:\n",
            "  aria2 libaria2-0 libc-ares2\n",
            "0 upgraded, 3 newly installed, 0 to remove and 18 not upgraded.\n",
            "Need to get 1,513 kB of archives.\n",
            "After this operation, 5,441 kB of additional disk space will be used.\n",
            "Selecting previously unselected package libc-ares2:amd64.\n",
            "(Reading database ... 120895 files and directories currently installed.)\n",
            "Preparing to unpack .../libc-ares2_1.18.1-1ubuntu0.22.04.2_amd64.deb ...\n",
            "Unpacking libc-ares2:amd64 (1.18.1-1ubuntu0.22.04.2) ...\n",
            "Selecting previously unselected package libaria2-0:amd64.\n",
            "Preparing to unpack .../libaria2-0_1.36.0-1_amd64.deb ...\n",
            "Unpacking libaria2-0:amd64 (1.36.0-1) ...\n",
            "Selecting previously unselected package aria2.\n",
            "Preparing to unpack .../aria2_1.36.0-1_amd64.deb ...\n",
            "Unpacking aria2 (1.36.0-1) ...\n",
            "Setting up libc-ares2:amd64 (1.18.1-1ubuntu0.22.04.2) ...\n",
            "Setting up libaria2-0:amd64 (1.36.0-1) ...\n",
            "Setting up aria2 (1.36.0-1) ...\n",
            "Processing triggers for man-db (2.10.2-1) ...\n",
            "Processing triggers for libc-bin (2.35-0ubuntu3.1) ...\n",
            "/sbin/ldconfig.real: /usr/local/lib/libtbbmalloc_proxy.so.2 is not a symbolic link\n",
            "\n",
            "/sbin/ldconfig.real: /usr/local/lib/libtbbmalloc.so.2 is not a symbolic link\n",
            "\n",
            "/sbin/ldconfig.real: /usr/local/lib/libtbbbind_2_0.so.3 is not a symbolic link\n",
            "\n",
            "/sbin/ldconfig.real: /usr/local/lib/libtbbbind_2_5.so.3 is not a symbolic link\n",
            "\n",
            "/sbin/ldconfig.real: /usr/local/lib/libtbbbind.so.3 is not a symbolic link\n",
            "\n",
            "/sbin/ldconfig.real: /usr/local/lib/libtbb.so.12 is not a symbolic link\n",
            "\n",
            "Reading package lists... Done\n",
            "Building dependency tree... Done\n",
            "Reading state information... Done\n",
            "wget is already the newest version (1.21.2-2ubuntu1).\n",
            "git is already the newest version (1:2.34.1-1ubuntu1.10).\n",
            "python3 is already the newest version (3.10.6-1~22.04).\n",
            "python3 set to manually installed.\n",
            "The following NEW packages will be installed:\n",
            "  python3-pip-whl python3-setuptools-whl python3-venv python3.10-venv\n",
            "0 upgraded, 4 newly installed, 0 to remove and 18 not upgraded.\n",
            "Need to get 2,474 kB of archives.\n",
            "After this operation, 2,888 kB of additional disk space will be used.\n",
            "Get:1 http://archive.ubuntu.com/ubuntu jammy-updates/universe amd64 python3-pip-whl all 22.0.2+dfsg-1ubuntu0.3 [1,679 kB]\n",
            "Get:2 http://archive.ubuntu.com/ubuntu jammy-updates/universe amd64 python3-setuptools-whl all 59.6.0-1.2ubuntu0.22.04.1 [788 kB]\n",
            "Get:3 http://archive.ubuntu.com/ubuntu jammy-updates/universe amd64 python3.10-venv amd64 3.10.12-1~22.04.2 [5,724 B]\n",
            "Get:4 http://archive.ubuntu.com/ubuntu jammy-updates/universe amd64 python3-venv amd64 3.10.6-1~22.04 [1,038 B]\n",
            "Fetched 2,474 kB in 2s (1,111 kB/s)\n",
            "debconf: unable to initialize frontend: Dialog\n",
            "debconf: (No usable dialog-like program is installed, so the dialog based frontend cannot be used. at /usr/share/perl5/Debconf/FrontEnd/Dialog.pm line 78, <> line 4.)\n",
            "debconf: falling back to frontend: Readline\n",
            "debconf: unable to initialize frontend: Readline\n",
            "debconf: (This frontend requires a controlling tty.)\n",
            "debconf: falling back to frontend: Teletype\n",
            "dpkg-preconfigure: unable to re-open stdin: \n",
            "Selecting previously unselected package python3-pip-whl.\n",
            "(Reading database ... 120969 files and directories currently installed.)\n",
            "Preparing to unpack .../python3-pip-whl_22.0.2+dfsg-1ubuntu0.3_all.deb ...\n",
            "Unpacking python3-pip-whl (22.0.2+dfsg-1ubuntu0.3) ...\n",
            "Selecting previously unselected package python3-setuptools-whl.\n",
            "Preparing to unpack .../python3-setuptools-whl_59.6.0-1.2ubuntu0.22.04.1_all.deb ...\n",
            "Unpacking python3-setuptools-whl (59.6.0-1.2ubuntu0.22.04.1) ...\n",
            "Selecting previously unselected package python3.10-venv.\n",
            "Preparing to unpack .../python3.10-venv_3.10.12-1~22.04.2_amd64.deb ...\n",
            "Unpacking python3.10-venv (3.10.12-1~22.04.2) ...\n",
            "Selecting previously unselected package python3-venv.\n",
            "Preparing to unpack .../python3-venv_3.10.6-1~22.04_amd64.deb ...\n",
            "Unpacking python3-venv (3.10.6-1~22.04) ...\n",
            "Setting up python3-setuptools-whl (59.6.0-1.2ubuntu0.22.04.1) ...\n",
            "Setting up python3-pip-whl (22.0.2+dfsg-1ubuntu0.3) ...\n",
            "Setting up python3.10-venv (3.10.12-1~22.04.2) ...\n",
            "Setting up python3-venv (3.10.6-1~22.04) ...\n",
            "Cloning into '/root/1/2/3/4/5/6/20231005'...\n",
            "remote: Enumerating objects: 26737, done.\u001b[K\n",
            "remote: Counting objects: 100% (26737/26737), done.\u001b[K\n",
            "remote: Compressing objects: 100% (7085/7085), done.\u001b[K\n",
            "remote: Total 26737 (delta 19453), reused 26737 (delta 19453), pack-reused 0\u001b[K\n",
            "Receiving objects: 100% (26737/26737), 25.82 MiB | 16.05 MiB/s, done.\n",
            "Resolving deltas: 100% (19453/19453), done.\n",
            "\u001b[0m\n",
            "Download Results:\n",
            "gid   |stat|avg speed  |path/URI\n",
            "======+====+===========+=======================================================\n",
            "f1b3b1|\u001b[1;32mOK\u001b[0m  |   147MiB/s|/root/k/cswpf/models/Stable-diffusion/sd-v1-4.safetensors\n",
            "\n",
            "Status Legend:\n",
            "(OK):download completed.\n",
            "/root/1/2/3/4/5/6/20231005\n",
            "fatal: No names found, cannot describe anything.\n",
            "Python 3.10.12 (main, Jun 11 2023, 05:26:28) [GCC 11.4.0]\n",
            "Version: 1.5.2\n",
            "Commit hash: c9c8485bc1e8720aba70f029d25cba1c4abf2b5c\n",
            "Traceback (most recent call last):\n",
            "  File \"/root/1/2/3/4/5/6/20231005/launch.py\", line 39, in <module>\n",
            "    main()\n",
            "  File \"/root/1/2/3/4/5/6/20231005/launch.py\", line 30, in main\n",
            "    prepare_environment()\n",
            "  File \"/root/1/2/3/4/5/6/20231005/modules/launch_utils.py\", line 314, in prepare_environment\n",
            "    raise RuntimeError(\n",
            "RuntimeError: Torch is not able to use GPU; add --skip-torch-cuda-test to COMMANDLINE_ARGS variable to disable this check\n"
          ]
        }
      ],
      "source": [
        "%cd /root\n",
        "!apt -y install -qq aria2\n",
        "!sudo apt install wget git python3 python3-venv\n",
        "!pip install -q torch==2.0.1+cu118 --extra-index-url https://download.pytorch.org/whl/cu118 -U\n",
        "!pip install -q torchvision==0.15.2+cu118 --extra-index-url https://download.pytorch.org/whl/cu118 -U\n",
        "!pip install -q torchaudio==2.0.2+cu118 --extra-index-url https://download.pytorch.org/whl/cu118 -U\n",
        "!pip install -q torchtext==0.15.2 -U\n",
        "!pip install -q torchdata==0.6.1 -U\n",
        "!git clone -b v2.5 https://github.com/wfq1971/maybe-c-colab /root/1/2/3/4/5/6/20231005\n",
        "!aria2c --console-log-level=error -c -x 16 -s 16 -k 1M https://huggingface.co/colaibu/moxing/resolve/main/perfectWorld_v5Baked.safetensors -d /root/1/2/3/4/5/6/20231005/models/ -o sd-v1-4.safetensors\n",
        "%cd /root/1/2/3/4/5/6/20231005\n",
        "!python /content/2.py"
      ]
    }
  ]
}