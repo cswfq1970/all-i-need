{
  "nbformat": 4,
  "nbformat_minor": 0,
  "metadata": {
    "colab": {
      "provenance": [],
      "authorship_tag": "ABX9TyOQ5/lSbIUiYrmUlelqST+Q",
      "include_colab_link": true
    },
    "kernelspec": {
      "name": "python3",
      "display_name": "Python 3"
    },
    "language_info": {
      "name": "python"
    }
  },
  "cells": [
    {
      "cell_type": "markdown",
      "metadata": {
        "id": "view-in-github",
        "colab_type": "text"
      },
      "source": [
        "<a href=\"https://colab.research.google.com/github/wfq1971/all-i-need/blob/main/Untitled5.ipynb\" target=\"_parent\"><img src=\"https://colab.research.google.com/assets/colab-badge.svg\" alt=\"Open In Colab\"/></a>"
      ]
    },
    {
      "cell_type": "code",
      "execution_count": null,
      "metadata": {
        "id": "KmRiMxEdE5iZ"
      },
      "outputs": [],
      "source": [
        "%cd /root\n",
        "!apt -y install -qq aria2\n",
        "!sudo apt install wget git python3 python3-venv\n",
        "!pip install -q torch==2.0.1+cu118 --extra-index-url https://download.pytorch.org/whl/cu118 -U\n",
        "!pip install -q torchvision==0.15.2+cu118 --extra-index-url https://download.pytorch.org/whl/cu118 -U\n",
        "!pip install -q torchaudio==2.0.2+cu118 --extra-index-url https://download.pytorch.org/whl/cu118 -U\n",
        "!pip install -q torchtext==0.15.2 -U\n",
        "!pip install -q torchdata==0.6.1 -U\n",
        "!git clone -b v2.5 https://github.com/wfq1971/maybe-c-colab /root/1/2/3/4/5/6/20231005\n",
        "!aria2c --console-log-level=error -c -x 16 -s 16 -k 1M https://huggingface.co/colaibu/moxing/resolve/main/perfectWorld_v5Baked.safetensors -d /root/k/cswpf/models/Stable-diffusion -o sd-v1-4.safetensors\n",
        "%cd /root/1/2/3/4/5/6/20231005\n",
        "!python /content/2.py"
      ]
    }
  ]
}